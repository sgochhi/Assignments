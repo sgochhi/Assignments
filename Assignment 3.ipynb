{
 "cells": [
  {
   "cell_type": "markdown",
   "metadata": {},
   "source": [
    "## ASSIGNMENT 3"
   ]
  },
  {
   "cell_type": "markdown",
   "metadata": {},
   "source": [
    "### 1- Write a function to compute 5/0 and use try/except to catch the exceptions. "
   ]
  },
  {
   "cell_type": "code",
   "execution_count": 15,
   "metadata": {},
   "outputs": [
    {
     "name": "stdout",
     "output_type": "stream",
     "text": [
      "An exception devide by zero occurred\n"
     ]
    }
   ],
   "source": [
    "def devide_by_zero():\n",
    "    x=5/0\n",
    "\n",
    "try:\n",
    "    devide_by_zero()\n",
    "except:\n",
    "    print(\"An exception devide by zero occurred\")"
   ]
  },
  {
   "cell_type": "markdown",
   "metadata": {},
   "source": [
    "### 2- Implement a Python program to generate all sentences where subject is in [\"Americans\", \"Indians\"] and verb is in [\"Play\", \"watch\"] and the object is in [\"Baseball\",\"cricket\"]. \n",
    " \n",
    "### Hint: Subject,Verb and Object should be declared in the program as shown below. \n",
    " \n",
    "### subjects=[\"Americans \",\"Indians\"] verbs=[\"play\",\"watch\"] objects=[\"Baseball\",\"Cricket\"] \n",
    " \n",
    "### Output should come as below: \n",
    " \n",
    "### Americans  play Baseball. Americans  play Cricket. Americans  watch Baseball. Americans  watch Cricket. Indians play Baseball. Indians play Cricket. Indians watch Baseball. Indians watch Cricket. "
   ]
  },
  {
   "cell_type": "code",
   "execution_count": 19,
   "metadata": {},
   "outputs": [
    {
     "name": "stdout",
     "output_type": "stream",
     "text": [
      "Americans  play Baseball\n",
      "Americans  play Cricket\n",
      "Americans  watch Baseball\n",
      "Americans  watch Cricket\n",
      "Indians play Baseball\n",
      "Indians play Cricket\n",
      "Indians watch Baseball\n",
      "Indians watch Cricket\n"
     ]
    }
   ],
   "source": [
    "subjects=[\"Americans \",\"Indians\"] \n",
    "verbs=[\"play\",\"watch\"] \n",
    "objects=[\"Baseball\",\"Cricket\"]\n",
    "for x in subjects:\n",
    "    for y in verbs:\n",
    "        for z in objects:\n",
    "            print(x+\" \"+y+\" \"+z)"
   ]
  },
  {
   "cell_type": "code",
   "execution_count": 24,
   "metadata": {},
   "outputs": [
    {
     "name": "stdout",
     "output_type": "stream",
     "text": [
      "Americans  play Baseball\n",
      "Americans  play Cricket\n",
      "Americans  watch Baseball\n",
      "Americans  watch Cricket\n",
      "Indians play Baseball\n",
      "Indians play Cricket\n",
      "Indians watch Baseball\n",
      "Indians watch Cricket\n"
     ]
    }
   ],
   "source": [
    "#tried to solve by list comprehension - solution 1\n",
    "subjects=[\"Americans \",\"Indians\"] \n",
    "verbs=[\"play\",\"watch\"] \n",
    "objects=[\"Baseball\",\"Cricket\"]\n",
    "final_string = [x+\" \"+y+\" \"+z for x in subjects for y in verbs for z in objects]\n",
    "for m in final_string:\n",
    "    print(m)"
   ]
  },
  {
   "cell_type": "code",
   "execution_count": 25,
   "metadata": {},
   "outputs": [
    {
     "name": "stdout",
     "output_type": "stream",
     "text": [
      "Americans  play Baseball\n",
      "Americans  play Cricket\n",
      "Americans  watch Baseball\n",
      "Americans  watch Cricket\n",
      "Indians play Baseball\n",
      "Indians play Cricket\n",
      "Indians watch Baseball\n",
      "Indians watch Cricket\n"
     ]
    }
   ],
   "source": [
    "#tried to solve by list comprehension - solution 2\n",
    "subjects=[\"Americans \",\"Indians\"] \n",
    "verbs=[\"play\",\"watch\"] \n",
    "objects=[\"Baseball\",\"Cricket\"]\n",
    "list_output=[x+\" \"+y+\" \"+z for x in subjects for y in verbs for z in objects]\n",
    "print ('\\n'.join(list_output))"
   ]
  },
  {
   "cell_type": "markdown",
   "metadata": {},
   "source": [
    "### 3- Write a function so that the columns of the output matrix are powers of the input vector.  \n",
    "### The order of the powers is determined by the increasing boolean argument. Specifically, when increasing is False, the i-th output column is the input vector raised element-wise to the power of N - i - 1.  \n",
    " \n",
    "### HINT: Such a matrix with a geometric progression in each row is named for Alexandre Theophile Vandermonde."
   ]
  },
  {
   "cell_type": "code",
   "execution_count": 77,
   "metadata": {},
   "outputs": [
    {
     "name": "stdout",
     "output_type": "stream",
     "text": [
      "Please enter the no for vector separated by commas like 1,2,3,4 = 1,2,3,4\n",
      "Please enter the value of N = 2\n",
      "Please enter if it's increase or not in True or False = \n",
      "[[1, 1], [2, 1], [3, 1], [4, 1]]\n"
     ]
    }
   ],
   "source": [
    "def Alexandre_Theophile_Vandermonde(input_vector,N,increase):\n",
    "    if (N == None) or (N == ''):\n",
    "        N = len(input_vector)\n",
    "    else:\n",
    "        N = int(N)\n",
    "        \n",
    "    if (increase == None) or (increase == ''):\n",
    "        increase=False\n",
    "        \n",
    "\n",
    "    if increase == False:\n",
    "        desired_list = [[m**(N-1-a) for a in range(N)] for m in input_vector]\n",
    "    else:\n",
    "        desired_list = [[m**(N-1-a) for a in range((N-1),-1,-1)] for m in input_vector]\n",
    "    return desired_list\n",
    "\n",
    "user_vector = list(input(\"Please enter the no for vector separated by commas like 1,2,3,4 = \").split(\",\"))\n",
    "user_vector = [int(i) for i in user_vector] \n",
    "user_power = input(\"Please enter the value of N = \")\n",
    "user_input = input(\"Please enter if it's increase or not in True or False = \")\n",
    "output_matrix = Alexandre_Theophile_Vandermonde(user_vector,user_power,user_input)\n",
    "print(output_matrix)"
   ]
  },
  {
   "cell_type": "code",
   "execution_count": null,
   "metadata": {},
   "outputs": [],
   "source": []
  }
 ],
 "metadata": {
  "kernelspec": {
   "display_name": "Python 3",
   "language": "python",
   "name": "python3"
  },
  "language_info": {
   "codemirror_mode": {
    "name": "ipython",
    "version": 3
   },
   "file_extension": ".py",
   "mimetype": "text/x-python",
   "name": "python",
   "nbconvert_exporter": "python",
   "pygments_lexer": "ipython3",
   "version": "3.7.3"
  }
 },
 "nbformat": 4,
 "nbformat_minor": 2
}
