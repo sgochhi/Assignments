{
 "cells": [
  {
   "cell_type": "markdown",
   "metadata": {},
   "source": [
    "## Assignment 2"
   ]
  },
  {
   "cell_type": "markdown",
   "metadata": {},
   "source": [
    "### 1- Write a Python Program to implement your own myreduce() function which works exactly like Python's built-in function reduce() "
   ]
  },
  {
   "cell_type": "code",
   "execution_count": null,
   "metadata": {},
   "outputs": [],
   "source": [
    "# reduce function addes two consecutive elements in list and produce the output\n",
    "def myreduce(my_list):\n",
    "    total_sum = 0\n",
    "    for x in my_list:\n",
    "        # we can apply the other than add or a fuction or lambda logic here\n",
    "      total_sum += x\n",
    "    return total_sum\n",
    "\n",
    "input_list = [1,2,3,4]\n",
    "myreduce(input_list)"
   ]
  },
  {
   "cell_type": "code",
   "execution_count": null,
   "metadata": {},
   "outputs": [],
   "source": [
    "# another way of implementing reduce function functionality\n",
    "def my_def(list1):\n",
    "    total_sum = 0\n",
    "    for x in list1:\n",
    "        # we can apply the other than add or a fuction or lambda logic here\n",
    "      total_sum += x\n",
    "    return total_sum\n",
    " \n",
    "def myreduce1(methodToRun, spam_value):\n",
    "    return methodToRun(spam_value)\n",
    "\n",
    "input_list = [1,2,3,4,5]\n",
    "myreduce1(my_def,input_list)"
   ]
  },
  {
   "cell_type": "markdown",
   "metadata": {},
   "source": [
    "### 2- Write a Python program to implement your own myfilter() function which works exactly like Python's built-in function filter() "
   ]
  },
  {
   "cell_type": "code",
   "execution_count": null,
   "metadata": {},
   "outputs": [],
   "source": [
    "# implementing filter function functionality(for finding the even number)\n",
    "def my_def1(list2):\n",
    "    final_list = []\n",
    "    for x in list2:\n",
    "        # we can apply any fuction or lambda logic here\n",
    "        if x % 2 == 0:\n",
    "            final_list.append(x)\n",
    "    return final_list\n",
    "    \n",
    "# \n",
    "def myfilter(methodToRun2, spam_value2):\n",
    "    return methodToRun2(spam_value2)\n",
    "\n",
    "input_list1 = [1,2,3,4,5,6,7,8]\n",
    "myfilter(my_def1,input_list1)"
   ]
  },
  {
   "cell_type": "markdown",
   "metadata": {},
   "source": [
    "### 3- Implement List comprehensions to produce the following lists. \n",
    " \n",
    "### Write List comprehensions to produce the following Lists \n",
    " \n",
    "### ['A', 'C', 'A', 'D', 'G', 'I', ’L’, ‘ D’] \n",
    " \n",
    "### ['x', 'xx', 'xxx', 'xxxx', 'y', 'yy', 'yyy', 'yyyy', 'z', 'zz', 'zzz', 'zzzz'] \n",
    " \n",
    "### ['x', 'y', 'z', 'xx', 'yy', 'zz', 'xx', 'yy', 'zz', 'xxxx', 'yyyy', 'zzzz'] \n",
    "### [[2], [3], [4], [3], [4], [5], [4], [5], [6]] \n",
    " \n",
    "### [[2, 3, 4, 5], [3, 4, 5, 6], [4, 5, 6, 7], [5, 6, 7, 8]] \n",
    " \n",
    "### [(1, 1), (2, 1), (3, 1), (1, 2), (2, 2), (3, 2), (1, 3), (2, 3), (3, 3)] "
   ]
  },
  {
   "cell_type": "code",
   "execution_count": null,
   "metadata": {},
   "outputs": [],
   "source": [
    "input_lists = \"ACADGILD\"\n",
    "desired_lists = [x for x in input_lists]\n",
    "print(desired_lists)"
   ]
  },
  {
   "cell_type": "code",
   "execution_count": null,
   "metadata": {},
   "outputs": [],
   "source": [
    "# Please ignore this part as this is not created with list Comprehension\n",
    "input_list = ['x','y','z']\n",
    "desired_list = []\n",
    "for a in input_list:\n",
    "    for m in range(1,5):\n",
    "        desired_list.append(a*m)\n",
    "print(desired_list) "
   ]
  },
  {
   "cell_type": "code",
   "execution_count": null,
   "metadata": {},
   "outputs": [],
   "source": [
    "input_list1 = ['x','y','z']\n",
    "desired_list1 = [a*m for a in input_list1 for m in range(1,5)]\n",
    "print(desired_list1)"
   ]
  },
  {
   "cell_type": "code",
   "execution_count": null,
   "metadata": {},
   "outputs": [],
   "source": [
    "# Please ignore this part as this is not created with list Comprehension\n",
    "input_list2 = ['x','y','z']\n",
    "desired_list2 = []\n",
    "for i in range(1,5):\n",
    "    for a in input_list2:\n",
    "        desired_list2.append(a*i)\n",
    "print(desired_list2)    "
   ]
  },
  {
   "cell_type": "code",
   "execution_count": null,
   "metadata": {},
   "outputs": [],
   "source": [
    "input_list3 = ['x','y','z']\n",
    "desired_list3 = [a*i for i in range(1,5) for a in input_list3]\n",
    "print(desired_list3)"
   ]
  },
  {
   "cell_type": "code",
   "execution_count": null,
   "metadata": {},
   "outputs": [],
   "source": [
    "# Please ignore this part as this is not created with list Comprehension\n",
    "input_list4 = [2,3,4]\n",
    "desired_list4 = []\n",
    "for a in range(0,3):\n",
    "    for m in input_list4:\n",
    "        desired_list4.append([m+a])\n",
    "print(desired_list4)"
   ]
  },
  {
   "cell_type": "code",
   "execution_count": null,
   "metadata": {},
   "outputs": [],
   "source": [
    "input_list5 = [2,3,4]\n",
    "desired_list5 = [[m+a] for a in range(0,3) for m in input_list5]\n",
    "print(desired_list5)"
   ]
  },
  {
   "cell_type": "code",
   "execution_count": null,
   "metadata": {},
   "outputs": [],
   "source": [
    "# Please ignore this part as this is not created with list Comprehension\n",
    "input_list6 = [2,3,4,5]\n",
    "desired_list6 = []\n",
    "for a in range(0,4):\n",
    "    desired_list6.append([])\n",
    "    for m in input_list6:\n",
    "        desired_list6[a].append(m+a)\n",
    "print(desired_list6)"
   ]
  },
  {
   "cell_type": "code",
   "execution_count": null,
   "metadata": {},
   "outputs": [],
   "source": [
    "input_list7 = [2,3,4,5]\n",
    "desired_list7 = [[m+a for a in range(0,4)] for m in input_list6]\n",
    "print(desired_list7)"
   ]
  },
  {
   "cell_type": "code",
   "execution_count": null,
   "metadata": {},
   "outputs": [],
   "source": [
    "# Please ignore this part as this is not created with list Comprehension\n",
    "desired_list8 = []\n",
    "for a in range(1,4):\n",
    "    for m in range(1,4):\n",
    "        desired_list8.append((a,m))\n",
    "print(desired_list8)"
   ]
  },
  {
   "cell_type": "code",
   "execution_count": null,
   "metadata": {},
   "outputs": [],
   "source": [
    "desired_list9 = [(a,m) for a in range(1,4) for m in range(1,4)]\n",
    "print(desired_list9)"
   ]
  },
  {
   "cell_type": "markdown",
   "metadata": {},
   "source": [
    "### 4- Implement a function longestWord() that takes a list of words and returns the longest one. "
   ]
  },
  {
   "cell_type": "code",
   "execution_count": null,
   "metadata": {},
   "outputs": [],
   "source": [
    "def longestWord(input_word):\n",
    "    long_word = \"\"\n",
    "    \n",
    "    for x in input_word:\n",
    "        if len(long_word) < len(x):\n",
    "            long_word = x\n",
    "    return long_word\n",
    "\n",
    "input_string = input(\"Enter a list of word separated by comma like john,fatima,tikam  \")\n",
    "word_string  = input_string.split(\",\")\n",
    "longest_word = longestWord(word_string)\n",
    "print(\"The longest word in the list is {}\".format(longest_word))"
   ]
  },
  {
   "cell_type": "markdown",
   "metadata": {},
   "source": [
    "### 5- Write a Python Program(with class concepts) to find the area of the triangle using the below formula. \n",
    "### area = (s*(s-a)*(s-b)*(s-c)) ** 0.5 \n",
    "### Function to take the length of the sides of triangle from user should be defined in the parent class and \n",
    "### function to calculate the area should be defined in subclass. "
   ]
  },
  {
   "cell_type": "code",
   "execution_count": null,
   "metadata": {},
   "outputs": [],
   "source": [
    "class Circle():\n",
    "    def __init__(self, a,b,c):\n",
    "        self.side1 = a\n",
    "        self.side2 = b\n",
    "        self.side3 = c\n",
    "        self.semi_perimiter = (a + b + c)/2\n",
    "\n",
    "    def area(self):\n",
    "        return (self.semi_perimiter*(self.semi_perimiter-self.side1)*(self.semi_perimiter-self.side2)*(self.semi_perimiter-self.side3))**0.5\n",
    "    \n",
    "    def perimeter(self):\n",
    "        return 2*self.radius*3.14\n",
    "\n",
    "a = float(input('Enter first side: '))\n",
    "b = float(input('Enter second side: '))\n",
    "c = float(input('Enter third side: '))\n",
    "NewCircle = Circle(a,b,c)\n",
    "print('The area of the triangle is %0.2f' %NewCircle.area())"
   ]
  },
  {
   "cell_type": "markdown",
   "metadata": {},
   "source": [
    "### 6- Write a function filter_long_words() that takes a list of words and an integer n and returns the list of words that are longer than n. "
   ]
  },
  {
   "cell_type": "code",
   "execution_count": null,
   "metadata": {},
   "outputs": [],
   "source": [
    "def filter_long_words(list5,length):\n",
    "    return_list=[]\n",
    "    for x in list5:\n",
    "        if len(x) > length:\n",
    "            return_list.append(x)\n",
    "    return return_list\n",
    "\n",
    "input_string1 = input(\"Enter a list of word separated by comma like john,fatima,tikam  \")\n",
    "length = int(input(\"Enter a integer no \"))\n",
    "word_string1  = input_string1.split(\",\")\n",
    "display_list = filter_long_words(word_string1,length)\n",
    "print(\"The list of words which is greater than {} are \".format(length))\n",
    "print(display_list)"
   ]
  },
  {
   "cell_type": "markdown",
   "metadata": {},
   "source": [
    "### 7- Write a Python program using function concept that maps  list of words into a list of integers representing the lengths of the corresponding words​. \n",
    "### Hint: ​If a list [ ab,cde,erty] is passed on to the python function output should come as [2,3,4] \n",
    "### Here 2,3 and 4 are the lengths of the words in the list. "
   ]
  },
  {
   "cell_type": "code",
   "execution_count": null,
   "metadata": {},
   "outputs": [],
   "source": [
    "def word_to_number(list10):\n",
    "    list_no = []\n",
    "    for x in list10:\n",
    "        list_no.append(len(x))\n",
    "    return list_no\n",
    "    \n",
    "input_string2 = input(\"Enter a list of word separated by comma like john,fatima,tikam  \")\n",
    "word_string2  = input_string2.split(\",\")\n",
    "display_list2 = word_to_number(word_string2)\n",
    "print(display_list2)"
   ]
  },
  {
   "cell_type": "markdown",
   "metadata": {},
   "source": [
    "### 8- Write a Python function which takes a character (i.e. a string of length 1) and returns True if it is a vowel, False otherwise. "
   ]
  },
  {
   "cell_type": "code",
   "execution_count": null,
   "metadata": {},
   "outputs": [],
   "source": [
    "def vowel_check(input_str):\n",
    "    if input_str.upper() in ('A','E','I','O','U'):\n",
    "        return True\n",
    "    else:\n",
    "        return False\n",
    "input_string3 = input(\"Enter a single charecter \")\n",
    "print(vowel_check(input_string3))"
   ]
  }
 ],
 "metadata": {
  "kernelspec": {
   "display_name": "Python 3",
   "language": "python",
   "name": "python3"
  },
  "language_info": {
   "codemirror_mode": {
    "name": "ipython",
    "version": 3
   },
   "file_extension": ".py",
   "mimetype": "text/x-python",
   "name": "python",
   "nbconvert_exporter": "python",
   "pygments_lexer": "ipython3",
   "version": "3.7.3"
  }
 },
 "nbformat": 4,
 "nbformat_minor": 2
}
